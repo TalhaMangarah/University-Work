{
 "cells": [
  {
   "cell_type": "markdown",
   "metadata": {},
   "source": [
    "# tmang002 - 33551591 - Talha Mangarah - IS53023C - Part 1 (Late submission)"
   ]
  },
  {
   "cell_type": "code",
   "execution_count": 261,
   "metadata": {},
   "outputs": [],
   "source": [
    "#Import libs for implementation (not algorithm)\n",
    "import numpy as np\n",
    "import pandas as pd\n",
    "import math"
   ]
  },
  {
   "cell_type": "code",
   "execution_count": 262,
   "metadata": {},
   "outputs": [],
   "source": [
    "#Import dataset and convert to numpy\n",
    "sonar_train = pd.read_csv('sonar_train.csv',header=0)\n",
    "sonar_test = pd.read_csv('sonar_test.csv',header=0)\n",
    "\n",
    "train = sonar_train.to_numpy()\n",
    "test = sonar_test.to_numpy()"
   ]
  },
  {
   "cell_type": "code",
   "execution_count": 263,
   "metadata": {},
   "outputs": [],
   "source": [
    "# Calculate euclidean distance\n",
    "def euc_dis(row1, row2):\n",
    "    distance = 0.0\n",
    "    for i in range(row1.size-1):\n",
    "        distance += (row1[i] - row2[i])**2\n",
    "    return math.sqrt(distance)"
   ]
  },
  {
   "cell_type": "code",
   "execution_count": 264,
   "metadata": {},
   "outputs": [],
   "source": [
    "# Calculate Manhattan distance\n",
    "def man_dis(row1, row2):\n",
    "    distance = 0.0\n",
    "    for i in range(row1.size-1):\n",
    "        distance += abs(row1[i] - row2[i])\n",
    "    return distance"
   ]
  },
  {
   "cell_type": "code",
   "execution_count": 265,
   "metadata": {},
   "outputs": [],
   "source": [
    "# Find nearest neighbours for euclidean\n",
    "def euc_n_neighbour(train, test_row):\n",
    "    distances = list()\n",
    "    for train_row in train:\n",
    "        eucdist = euc_dis(test_row, train_row)\n",
    "        distances.append((train_row, eucdist))\n",
    "    distances.sort(key=lambda tup: tup[1])\n",
    "    neighbour = list()\n",
    "    neighbour.append(distances[0])\n",
    "    return neighbour"
   ]
  },
  {
   "cell_type": "code",
   "execution_count": 266,
   "metadata": {},
   "outputs": [],
   "source": [
    "# Find nearest neighbours manhattan\n",
    "def man_n_neighbour(train, test_row):\n",
    "    distances = list()\n",
    "    for train_row in train:\n",
    "        mandist = man_dis(test_row, train_row)\n",
    "        distances.append((train_row, mandist))\n",
    "    distances.sort(key=lambda tup: tup[1])\n",
    "    neighbour = list()\n",
    "    neighbour.append(distances[0])\n",
    "    return neighbour"
   ]
  },
  {
   "cell_type": "code",
   "execution_count": 267,
   "metadata": {},
   "outputs": [],
   "source": [
    "# Classify\n",
    "def predict_class_euc(train, test_row):\n",
    "    neighbours = n_neighbour(train, test_row)\n",
    "    output_values = [row[-1] for row in neighbours]\n",
    "    predict = max(set(output_values), key=output_values.count)\n",
    "    return predict"
   ]
  },
  {
   "cell_type": "markdown",
   "metadata": {},
   "source": [
    "Euclidean classify"
   ]
  },
  {
   "cell_type": "code",
   "execution_count": 268,
   "metadata": {},
   "outputs": [
    {
     "output_type": "stream",
     "name": "stdout",
     "text": "row = 1, Exptected R, Euclidean Distance got R\nrow = 2, Exptected M, Euclidean Distance got M\nrow = 3, Exptected M, Euclidean Distance got M\nrow = 4, Exptected R, Euclidean Distance got R\nrow = 5, Exptected R, Euclidean Distance got R\nrow = 6, Exptected R, Euclidean Distance got M\nrow = 7, Exptected M, Euclidean Distance got M\nrow = 8, Exptected M, Euclidean Distance got M\nrow = 9, Exptected M, Euclidean Distance got M\nrow = 10, Exptected R, Euclidean Distance got M\nrow = 11, Exptected R, Euclidean Distance got R\nrow = 12, Exptected R, Euclidean Distance got R\nrow = 13, Exptected R, Euclidean Distance got R\nrow = 14, Exptected R, Euclidean Distance got R\nrow = 15, Exptected R, Euclidean Distance got M\nrow = 16, Exptected M, Euclidean Distance got M\nrow = 17, Exptected M, Euclidean Distance got M\nrow = 18, Exptected M, Euclidean Distance got R\nrow = 19, Exptected M, Euclidean Distance got M\nrow = 20, Exptected M, Euclidean Distance got M\nrow = 21, Exptected M, Euclidean Distance got M\nrow = 22, Exptected R, Euclidean Distance got R\nrow = 23, Exptected R, Euclidean Distance got R\nrow = 24, Exptected R, Euclidean Distance got R\nrow = 25, Exptected R, Euclidean Distance got R\nrow = 26, Exptected M, Euclidean Distance got M\nrow = 27, Exptected R, Euclidean Distance got R\nrow = 28, Exptected R, Euclidean Distance got R\nrow = 29, Exptected M, Euclidean Distance got M\nrow = 30, Exptected M, Euclidean Distance got M\nrow = 31, Exptected M, Euclidean Distance got M\nrow = 32, Exptected M, Euclidean Distance got M\nrow = 33, Exptected M, Euclidean Distance got M\nrow = 34, Exptected R, Euclidean Distance got R\nrow = 35, Exptected M, Euclidean Distance got M\nrow = 36, Exptected M, Euclidean Distance got M\nrow = 37, Exptected M, Euclidean Distance got M\nrow = 38, Exptected M, Euclidean Distance got M\nrow = 39, Exptected M, Euclidean Distance got M\nrow = 40, Exptected R, Euclidean Distance got R\nrow = 41, Exptected R, Euclidean Distance got R\nrow = 42, Exptected M, Euclidean Distance got M\nrow = 43, Exptected M, Euclidean Distance got M\nrow = 44, Exptected M, Euclidean Distance got M\nrow = 45, Exptected R, Euclidean Distance got M\nrow = 46, Exptected R, Euclidean Distance got R\nrow = 47, Exptected R, Euclidean Distance got R\nrow = 48, Exptected M, Euclidean Distance got M\nrow = 49, Exptected R, Euclidean Distance got R\nrow = 50, Exptected R, Euclidean Distance got R\nrow = 51, Exptected M, Euclidean Distance got M\nrow = 52, Exptected R, Euclidean Distance got R\nrow = 53, Exptected R, Euclidean Distance got R\nrow = 54, Exptected M, Euclidean Distance got M\nrow = 55, Exptected M, Euclidean Distance got M\nrow = 56, Exptected R, Euclidean Distance got R\nrow = 57, Exptected M, Euclidean Distance got M\nrow = 58, Exptected R, Euclidean Distance got R\nrow = 59, Exptected M, Euclidean Distance got M\nrow = 60, Exptected M, Euclidean Distance got M\nrow = 61, Exptected R, Euclidean Distance got R\nrow = 62, Exptected M, Euclidean Distance got M\nrow = 63, Exptected M, Euclidean Distance got M\nrow = 64, Exptected R, Euclidean Distance got R\nrow = 65, Exptected M, Euclidean Distance got M\nrow = 66, Exptected M, Euclidean Distance got M\nrow = 67, Exptected R, Euclidean Distance got M\nrow = 68, Exptected M, Euclidean Distance got M\nrow = 69, Exptected R, Euclidean Distance got M\n"
    }
   ],
   "source": [
    "counter_for_euc_accuracy = 0\n",
    "for i,test_row in enumerate(test):\n",
    "    prediction = euc_n_neighbour(train, test_row)\n",
    "    pred_size = prediction[0][-2].size-1\n",
    "    if(test[i][-1]==prediction[0][-2].item(pred_size)):\n",
    "        counter_for_euc_accuracy += 1\n",
    "    print('row = %d, Expected %s, Euclidean Distance got %s' % (i+1, test[i][-1], prediction[0][-2].item(pred_size)))"
   ]
  },
  {
   "cell_type": "markdown",
   "metadata": {},
   "source": [
    "Manhattan Classify"
   ]
  },
  {
   "cell_type": "code",
   "execution_count": 269,
   "metadata": {},
   "outputs": [
    {
     "output_type": "stream",
     "name": "stdout",
     "text": "row = 1, Exptected R, Manhattan Distance got R\nrow = 2, Exptected M, Manhattan Distance got M\nrow = 3, Exptected M, Manhattan Distance got M\nrow = 4, Exptected R, Manhattan Distance got R\nrow = 5, Exptected R, Manhattan Distance got R\nrow = 6, Exptected R, Manhattan Distance got M\nrow = 7, Exptected M, Manhattan Distance got M\nrow = 8, Exptected M, Manhattan Distance got M\nrow = 9, Exptected M, Manhattan Distance got M\nrow = 10, Exptected R, Manhattan Distance got M\nrow = 11, Exptected R, Manhattan Distance got R\nrow = 12, Exptected R, Manhattan Distance got R\nrow = 13, Exptected R, Manhattan Distance got R\nrow = 14, Exptected R, Manhattan Distance got R\nrow = 15, Exptected R, Manhattan Distance got M\nrow = 16, Exptected M, Manhattan Distance got M\nrow = 17, Exptected M, Manhattan Distance got M\nrow = 18, Exptected M, Manhattan Distance got R\nrow = 19, Exptected M, Manhattan Distance got M\nrow = 20, Exptected M, Manhattan Distance got M\nrow = 21, Exptected M, Manhattan Distance got M\nrow = 22, Exptected R, Manhattan Distance got R\nrow = 23, Exptected R, Manhattan Distance got R\nrow = 24, Exptected R, Manhattan Distance got R\nrow = 25, Exptected R, Manhattan Distance got R\nrow = 26, Exptected M, Manhattan Distance got M\nrow = 27, Exptected R, Manhattan Distance got R\nrow = 28, Exptected R, Manhattan Distance got R\nrow = 29, Exptected M, Manhattan Distance got M\nrow = 30, Exptected M, Manhattan Distance got M\nrow = 31, Exptected M, Manhattan Distance got M\nrow = 32, Exptected M, Manhattan Distance got M\nrow = 33, Exptected M, Manhattan Distance got M\nrow = 34, Exptected R, Manhattan Distance got R\nrow = 35, Exptected M, Manhattan Distance got M\nrow = 36, Exptected M, Manhattan Distance got M\nrow = 37, Exptected M, Manhattan Distance got M\nrow = 38, Exptected M, Manhattan Distance got M\nrow = 39, Exptected M, Manhattan Distance got M\nrow = 40, Exptected R, Manhattan Distance got R\nrow = 41, Exptected R, Manhattan Distance got R\nrow = 42, Exptected M, Manhattan Distance got M\nrow = 43, Exptected M, Manhattan Distance got M\nrow = 44, Exptected M, Manhattan Distance got M\nrow = 45, Exptected R, Manhattan Distance got R\nrow = 46, Exptected R, Manhattan Distance got R\nrow = 47, Exptected R, Manhattan Distance got R\nrow = 48, Exptected M, Manhattan Distance got M\nrow = 49, Exptected R, Manhattan Distance got R\nrow = 50, Exptected R, Manhattan Distance got R\nrow = 51, Exptected M, Manhattan Distance got M\nrow = 52, Exptected R, Manhattan Distance got R\nrow = 53, Exptected R, Manhattan Distance got M\nrow = 54, Exptected M, Manhattan Distance got M\nrow = 55, Exptected M, Manhattan Distance got M\nrow = 56, Exptected R, Manhattan Distance got R\nrow = 57, Exptected M, Manhattan Distance got M\nrow = 58, Exptected R, Manhattan Distance got R\nrow = 59, Exptected M, Manhattan Distance got M\nrow = 60, Exptected M, Manhattan Distance got R\nrow = 61, Exptected R, Manhattan Distance got M\nrow = 62, Exptected M, Manhattan Distance got M\nrow = 63, Exptected M, Manhattan Distance got M\nrow = 64, Exptected R, Manhattan Distance got R\nrow = 65, Exptected M, Manhattan Distance got M\nrow = 66, Exptected M, Manhattan Distance got M\nrow = 67, Exptected R, Manhattan Distance got M\nrow = 68, Exptected M, Manhattan Distance got M\nrow = 69, Exptected R, Manhattan Distance got R\n"
    }
   ],
   "source": [
    "counter_for_man_accuracy = 0\n",
    "for i,test_row in enumerate(test):\n",
    "    prediction = man_n_neighbour(train, test_row)\n",
    "    pred_size = prediction[0][-2].size-1\n",
    "    if(test[i][-1]==prediction[0][-2].item(pred_size)):\n",
    "        counter_for_man_accuracy += 1\n",
    "    print('row = %d, Expected %s, Manhattan Distance got %s' % (i+1, test[i][-1], prediction[0][-2].item(pred_size)))"
   ]
  },
  {
   "cell_type": "markdown",
   "metadata": {},
   "source": [
    "Accuracy"
   ]
  },
  {
   "cell_type": "code",
   "execution_count": 270,
   "metadata": {},
   "outputs": [
    {
     "output_type": "stream",
     "name": "stdout",
     "text": "Euclidean distance NN got 62 correct out of 69\nManhattan distance NN got 61 correct out of 69\nAccuracy for Euclidean Distance is: 89.9%\nAccuracy for Manhattan Distance is: 88.4%\n"
    }
   ],
   "source": [
    "euc_accuracy=round((counter_for_euc_accuracy/test.shape[0])*100,1)\n",
    "man_accuracy=round((counter_for_man_accuracy/test.shape[0])*100,1)\n",
    "print('Euclidean distance NN got %d correct out of %d' % (counter_for_euc_accuracy, test.shape[0]))\n",
    "print('Manhattan distance NN got %d correct out of %d' % (counter_for_man_accuracy, test.shape[0]))\n",
    "print('Accuracy for Euclidean Distance is: '+ str(euc_accuracy)+'%')\n",
    "print('Accuracy for Manhattan Distance is: '+ str(man_accuracy)+'%')"
   ]
  }
 ],
 "metadata": {
  "language_info": {
   "codemirror_mode": {
    "name": "ipython",
    "version": 3
   },
   "file_extension": ".py",
   "mimetype": "text/x-python",
   "name": "python",
   "nbconvert_exporter": "python",
   "pygments_lexer": "ipython3",
   "version": "3.8.2-final"
  },
  "orig_nbformat": 2,
  "kernelspec": {
   "name": "python38264bit749cda06486842729dcc6ea132dedea0",
   "display_name": "Python 3.8.2 64-bit"
  }
 },
 "nbformat": 4,
 "nbformat_minor": 2
}